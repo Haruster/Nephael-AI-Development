{
 "cells": [
  {
   "cell_type": "code",
   "execution_count": 21,
   "id": "10c912c9",
   "metadata": {},
   "outputs": [],
   "source": [
    "import numpy as np"
   ]
  },
  {
   "cell_type": "code",
   "execution_count": 22,
   "id": "6df81c89",
   "metadata": {},
   "outputs": [],
   "source": [
    "import pandas as pd"
   ]
  },
  {
   "cell_type": "code",
   "execution_count": 23,
   "id": "3f02aa41",
   "metadata": {},
   "outputs": [],
   "source": [
    "import matplotlib.pyplot as plt"
   ]
  },
  {
   "cell_type": "code",
   "execution_count": 24,
   "id": "9fe78519",
   "metadata": {},
   "outputs": [],
   "source": [
    "height = np.array([183, 150, 180, 197, 160, 175])\n",
    "height = height.reshape(-1, 1) # 2차원 값이 들아가야 하기에 reshape를 사용한다."
   ]
  },
  {
   "cell_type": "code",
   "execution_count": 25,
   "id": "f38edf91",
   "metadata": {},
   "outputs": [],
   "source": [
    "math = np.array([85, 45, 80, 99, 45, 75])"
   ]
  },
  {
   "cell_type": "code",
   "execution_count": 26,
   "id": "206d347f",
   "metadata": {},
   "outputs": [],
   "source": [
    "from sklearn.linear_model import LinearRegression   #scikit-learn(sklearn)에 선형회귀 라이브러리가 포함되어 있어서 사용한다."
   ]
  },
  {
   "cell_type": "code",
   "execution_count": 27,
   "id": "c7d66faf",
   "metadata": {},
   "outputs": [],
   "source": [
    "line_fitter = LinearRegression()"
   ]
  },
  {
   "cell_type": "code",
   "execution_count": 28,
   "id": "9b566d1d",
   "metadata": {},
   "outputs": [],
   "source": [
    "# fit()함수의 기능 \n",
    "# line_fitter.coef_ : 기울기를 저장한다. (coef : 기울기)\n",
    "# line_fitter.intercept_ : 절편을 저장 (intercept : 절편)\n"
   ]
  },
  {
   "cell_type": "code",
   "execution_count": 29,
   "id": "67a8a24c",
   "metadata": {},
   "outputs": [
    {
     "data": {
      "text/plain": [
       "LinearRegression()"
      ]
     },
     "execution_count": 29,
     "metadata": {},
     "output_type": "execute_result"
    }
   ],
   "source": [
    "line_fitter.fit(height, math) #height와 math관의 상관관계를 구한다."
   ]
  },
  {
   "cell_type": "code",
   "execution_count": 30,
   "id": "ee705bfe",
   "metadata": {},
   "outputs": [],
   "source": [
    "score_predict = line_fitter.predict(height) ##height와 math관의 상관관계를 구하는 선형회귀선을 그린다. (score_predict : 점수 예측)"
   ]
  },
  {
   "cell_type": "code",
   "execution_count": 31,
   "id": "88ff50ca",
   "metadata": {},
   "outputs": [
    {
     "data": {
      "image/png": "[encoded data removed]",
      "text/plain": [
       "<Figure size 432x288 with 1 Axes>"
      ]
     },
     "metadata": {
      "needs_background": "light"
     },
     "output_type": "display_data"
    }
   ],
   "source": [
    "plt.plot(height, math, 'x') #x는 height에 따른 math이다.\n",
    "plt.plot(height, score_predict)\n",
    "plt.show() #데이터들을 나타낸 선형회귀선과 height에 따른 math을 나타내는 x를 출력한다. "
   ]
  },
  {
   "cell_type": "code",
   "execution_count": 32,
   "id": "6fdeac51",
   "metadata": {},
   "outputs": [],
   "source": [
    "#위에서 구현한 그래프에 기울기와 절편을 표현해보자."
   ]
  },
  {
   "cell_type": "code",
   "execution_count": 33,
   "id": "a5813e76",
   "metadata": {},
   "outputs": [
    {
     "data": {
      "text/plain": [
       "array([1.27957242])"
      ]
     },
     "execution_count": 33,
     "metadata": {},
     "output_type": "execute_result"
    }
   ],
   "source": [
    "line_fitter.coef_ #기울기 구하기"
   ]
  },
  {
   "cell_type": "code",
   "execution_count": 34,
   "id": "bb50b16a",
   "metadata": {},
   "outputs": [
    {
     "data": {
      "text/plain": [
       "-151.35886291554093"
      ]
     },
     "execution_count": 34,
     "metadata": {},
     "output_type": "execute_result"
    }
   ],
   "source": [
    "line_fitter.intercept_ #절편 구하기"
   ]
  },
  {
   "cell_type": "code",
   "execution_count": 35,
   "id": "0784a4be",
   "metadata": {},
   "outputs": [],
   "source": [
    "#MSE를 이용해서 성능평가 진행 (성능평가를 위해서 mse를 import한다.)\n",
    "from sklearn.metrics import mean_squared_error"
   ]
  },
  {
   "cell_type": "code",
   "execution_count": 38,
   "id": "e2ef6517",
   "metadata": {},
   "outputs": [
    {
     "name": "stdout",
     "output_type": "stream",
     "text": [
      "Mean_Squared_Error : 17.406045655663863\n"
     ]
    }
   ],
   "source": [
    "print(\"Mean_Squared_Error(Mse) :\", mean_squared_error(score_predict, math))#mse값을 구한다."
   ]
  },
  {
   "cell_type": "code",
   "execution_count": 39,
   "id": "39f92050",
   "metadata": {},
   "outputs": [
    {
     "name": "stdout",
     "output_type": "stream",
     "text": [
      "RMSE :  4.172055327493137\n"
     ]
    }
   ],
   "source": [
    "#RMSE를 이용해서 성능평가 진행(RMSE는 MSE에 루트값을 씌우면 된다.)\n",
    "print(\"RMSE : \", mean_squared_error(score_predict, math)**0.5) # **0.5 : 루트를 씌운다."
   ]
  },
  {
   "cell_type": "code",
   "execution_count": 42,
   "id": "a6664ebc",
   "metadata": {},
   "outputs": [
    {
     "name": "stdout",
     "output_type": "stream",
     "text": [
      "score : 0.9569778480189565\n"
     ]
    }
   ],
   "source": [
    "# LinearRegression의 score를 구한다.\n",
    "print('score :', line_fitter.score(height, math)) #LinearRegression을 line_fitter로 정의하였기 때문에 다음과 같이 사용한다."
   ]
  },
  {
   "cell_type": "code",
   "execution_count": null,
   "id": "59c63acd",
   "metadata": {},
   "outputs": [],
   "source": []
  }
 ],
 "metadata": {
  "kernelspec": {
   "display_name": "Python 3",
   "language": "python",
   "name": "python3"
  },
  "language_info": {
   "codemirror_mode": {
    "name": "ipython",
    "version": 3
   },
   "file_extension": ".py",
   "mimetype": "text/x-python",
   "name": "python",
   "nbconvert_exporter": "python",
   "pygments_lexer": "ipython3",
   "version": "3.8.8"
  }
 },
 "nbformat": 4,
 "nbformat_minor": 5
}
